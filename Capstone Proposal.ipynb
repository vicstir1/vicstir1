{
 "cells": [
  {
   "cell_type": "code",
   "execution_count": 192,
   "metadata": {},
   "outputs": [],
   "source": [
    "# IMPORT MODULES\n",
    "import pandas as pd\n",
    "import numpy as np\n",
    "import os\n",
    "import nltk\n",
    "from nltk.tokenize import word_tokenize\n",
    "from nltk.corpus import stopwords\n",
    "from nltk.stem import PorterStemmer\n",
    "import matplotlib.pyplot as plt"
   ]
  },
  {
   "cell_type": "code",
   "execution_count": 122,
   "metadata": {},
   "outputs": [
    {
     "name": "stderr",
     "output_type": "stream",
     "text": [
      "b'Skipping line 1925: expected 15 fields, saw 22\\nSkipping line 1977: expected 15 fields, saw 22\\nSkipping line 35265: expected 15 fields, saw 22\\nSkipping line 53357: expected 15 fields, saw 22\\n'\n",
      "b'Skipping line 68361: expected 15 fields, saw 22\\nSkipping line 70922: expected 15 fields, saw 22\\nSkipping line 73503: expected 15 fields, saw 22\\nSkipping line 85612: expected 15 fields, saw 22\\nSkipping line 102322: expected 15 fields, saw 22\\n'\n",
      "b'Skipping line 158341: expected 15 fields, saw 22\\nSkipping line 162872: expected 15 fields, saw 22\\nSkipping line 195697: expected 15 fields, saw 22\\n'\n",
      "b'Skipping line 202916: expected 15 fields, saw 22\\nSkipping line 203949: expected 15 fields, saw 22\\nSkipping line 250853: expected 15 fields, saw 22\\n'\n",
      "b'Skipping line 265820: expected 15 fields, saw 22\\nSkipping line 304569: expected 15 fields, saw 22\\nSkipping line 313136: expected 15 fields, saw 22\\nSkipping line 313160: expected 15 fields, saw 22\\nSkipping line 316345: expected 15 fields, saw 22\\nSkipping line 320940: expected 15 fields, saw 22\\nSkipping line 327593: expected 15 fields, saw 22\\n'\n",
      "b'Skipping line 333518: expected 15 fields, saw 22\\nSkipping line 345213: expected 15 fields, saw 22\\nSkipping line 346177: expected 15 fields, saw 22\\nSkipping line 362905: expected 15 fields, saw 22\\nSkipping line 378290: expected 15 fields, saw 22\\nSkipping line 389110: expected 15 fields, saw 22\\n'\n",
      "b'Skipping line 422928: expected 15 fields, saw 22\\nSkipping line 424436: expected 15 fields, saw 22\\nSkipping line 428873: expected 15 fields, saw 22\\nSkipping line 434163: expected 15 fields, saw 22\\nSkipping line 449737: expected 15 fields, saw 22\\nSkipping line 453302: expected 15 fields, saw 22\\n'\n",
      "b'Skipping line 459205: expected 15 fields, saw 22\\nSkipping line 464340: expected 15 fields, saw 22\\nSkipping line 514160: expected 15 fields, saw 22\\nSkipping line 523695: expected 15 fields, saw 22\\n'\n",
      "b'Skipping line 560739: expected 15 fields, saw 22\\nSkipping line 579800: expected 15 fields, saw 22\\n'\n",
      "b'Skipping line 596983: expected 15 fields, saw 22\\nSkipping line 599808: expected 15 fields, saw 22\\nSkipping line 622799: expected 15 fields, saw 22\\nSkipping line 639148: expected 15 fields, saw 22\\n'\n",
      "b'Skipping line 677643: expected 15 fields, saw 22\\nSkipping line 689626: expected 15 fields, saw 22\\n'\n",
      "b'Skipping line 748449: expected 15 fields, saw 22\\nSkipping line 764569: expected 15 fields, saw 22\\nSkipping line 772447: expected 15 fields, saw 22\\nSkipping line 773999: expected 15 fields, saw 22\\nSkipping line 774131: expected 15 fields, saw 22\\nSkipping line 786164: expected 15 fields, saw 22\\n'\n",
      "b'Skipping line 787274: expected 15 fields, saw 22\\nSkipping line 815676: expected 15 fields, saw 22\\n'\n",
      "b'Skipping line 874843: expected 15 fields, saw 22\\nSkipping line 904685: expected 15 fields, saw 22\\nSkipping line 915432: expected 15 fields, saw 22\\n'\n",
      "b'Skipping line 936339: expected 15 fields, saw 22\\nSkipping line 944830: expected 15 fields, saw 22\\nSkipping line 963551: expected 15 fields, saw 22\\nSkipping line 966835: expected 15 fields, saw 22\\nSkipping line 978466: expected 15 fields, saw 22\\n'\n",
      "b'Skipping line 1005807: expected 15 fields, saw 22\\nSkipping line 1005871: expected 15 fields, saw 22\\n'\n",
      "b'Skipping line 1086545: expected 15 fields, saw 22\\nSkipping line 1104208: expected 15 fields, saw 22\\n'\n",
      "b'Skipping line 1124945: expected 15 fields, saw 22\\nSkipping line 1151568: expected 15 fields, saw 22\\n'\n",
      "b'Skipping line 1266845: expected 15 fields, saw 22\\n'\n",
      "b'Skipping line 1334061: expected 15 fields, saw 22\\n'\n",
      "b'Skipping line 1379263: expected 15 fields, saw 22\\n'\n"
     ]
    },
    {
     "data": {
      "text/html": [
       "<div>\n",
       "<style scoped>\n",
       "    .dataframe tbody tr th:only-of-type {\n",
       "        vertical-align: middle;\n",
       "    }\n",
       "\n",
       "    .dataframe tbody tr th {\n",
       "        vertical-align: top;\n",
       "    }\n",
       "\n",
       "    .dataframe thead th {\n",
       "        text-align: right;\n",
       "    }\n",
       "</style>\n",
       "<table border=\"1\" class=\"dataframe\">\n",
       "  <thead>\n",
       "    <tr style=\"text-align: right;\">\n",
       "      <th></th>\n",
       "      <th>marketplace</th>\n",
       "      <th>customer_id</th>\n",
       "      <th>review_id</th>\n",
       "      <th>product_id</th>\n",
       "      <th>product_parent</th>\n",
       "      <th>product_title</th>\n",
       "      <th>product_category</th>\n",
       "      <th>star_rating</th>\n",
       "      <th>helpful_votes</th>\n",
       "      <th>total_votes</th>\n",
       "      <th>vine</th>\n",
       "      <th>verified_purchase</th>\n",
       "      <th>review_headline</th>\n",
       "      <th>review_body</th>\n",
       "      <th>review_date</th>\n",
       "    </tr>\n",
       "  </thead>\n",
       "  <tbody>\n",
       "    <tr>\n",
       "      <td>0</td>\n",
       "      <td>US</td>\n",
       "      <td>42521656</td>\n",
       "      <td>R26MV8D0KG6QI6</td>\n",
       "      <td>B000SAQCWC</td>\n",
       "      <td>159713740</td>\n",
       "      <td>The Cravings Place Chocolate Chunk Cookie Mix,...</td>\n",
       "      <td>Grocery</td>\n",
       "      <td>5</td>\n",
       "      <td>0.0</td>\n",
       "      <td>0.0</td>\n",
       "      <td>N</td>\n",
       "      <td>Y</td>\n",
       "      <td>Using these for years - love them.</td>\n",
       "      <td>As a family allergic to wheat, dairy, eggs, nu...</td>\n",
       "      <td>2015-08-31</td>\n",
       "    </tr>\n",
       "    <tr>\n",
       "      <td>1</td>\n",
       "      <td>US</td>\n",
       "      <td>12049833</td>\n",
       "      <td>R1OF8GP57AQ1A0</td>\n",
       "      <td>B00509LVIQ</td>\n",
       "      <td>138680402</td>\n",
       "      <td>Mauna Loa Macadamias, 11 Ounce Packages</td>\n",
       "      <td>Grocery</td>\n",
       "      <td>5</td>\n",
       "      <td>0.0</td>\n",
       "      <td>0.0</td>\n",
       "      <td>N</td>\n",
       "      <td>Y</td>\n",
       "      <td>Wonderful</td>\n",
       "      <td>My favorite nut.  Creamy, crunchy, salty, and ...</td>\n",
       "      <td>2015-08-31</td>\n",
       "    </tr>\n",
       "    <tr>\n",
       "      <td>2</td>\n",
       "      <td>US</td>\n",
       "      <td>107642</td>\n",
       "      <td>R3VDC1QB6MC4ZZ</td>\n",
       "      <td>B00KHXESLC</td>\n",
       "      <td>252021703</td>\n",
       "      <td>Organic Matcha Green Tea Powder - 100% Pure Ma...</td>\n",
       "      <td>Grocery</td>\n",
       "      <td>5</td>\n",
       "      <td>0.0</td>\n",
       "      <td>0.0</td>\n",
       "      <td>N</td>\n",
       "      <td>N</td>\n",
       "      <td>Five Stars</td>\n",
       "      <td>This green tea tastes so good! My girlfriend l...</td>\n",
       "      <td>2015-08-31</td>\n",
       "    </tr>\n",
       "    <tr>\n",
       "      <td>3</td>\n",
       "      <td>US</td>\n",
       "      <td>6042304</td>\n",
       "      <td>R12FA3DCF8F9ER</td>\n",
       "      <td>B000F8JIIC</td>\n",
       "      <td>752728342</td>\n",
       "      <td>15oz Raspberry Lyons Designer Dessert Syrup Sauce</td>\n",
       "      <td>Grocery</td>\n",
       "      <td>5</td>\n",
       "      <td>0.0</td>\n",
       "      <td>0.0</td>\n",
       "      <td>N</td>\n",
       "      <td>Y</td>\n",
       "      <td>Five Stars</td>\n",
       "      <td>I love Melissa's brand but this is a great sec...</td>\n",
       "      <td>2015-08-31</td>\n",
       "    </tr>\n",
       "    <tr>\n",
       "      <td>4</td>\n",
       "      <td>US</td>\n",
       "      <td>18123821</td>\n",
       "      <td>RTWHVNV6X4CNJ</td>\n",
       "      <td>B004ZWR9RQ</td>\n",
       "      <td>552138758</td>\n",
       "      <td>Stride Spark Kinetic Fruit Sugar Free Gum, 14-...</td>\n",
       "      <td>Grocery</td>\n",
       "      <td>5</td>\n",
       "      <td>0.0</td>\n",
       "      <td>0.0</td>\n",
       "      <td>N</td>\n",
       "      <td>Y</td>\n",
       "      <td>Five Stars</td>\n",
       "      <td>good</td>\n",
       "      <td>2015-08-31</td>\n",
       "    </tr>\n",
       "  </tbody>\n",
       "</table>\n",
       "</div>"
      ],
      "text/plain": [
       "  marketplace  customer_id       review_id  product_id  product_parent  \\\n",
       "0          US     42521656  R26MV8D0KG6QI6  B000SAQCWC       159713740   \n",
       "1          US     12049833  R1OF8GP57AQ1A0  B00509LVIQ       138680402   \n",
       "2          US       107642  R3VDC1QB6MC4ZZ  B00KHXESLC       252021703   \n",
       "3          US      6042304  R12FA3DCF8F9ER  B000F8JIIC       752728342   \n",
       "4          US     18123821   RTWHVNV6X4CNJ  B004ZWR9RQ       552138758   \n",
       "\n",
       "                                       product_title product_category  \\\n",
       "0  The Cravings Place Chocolate Chunk Cookie Mix,...          Grocery   \n",
       "1            Mauna Loa Macadamias, 11 Ounce Packages          Grocery   \n",
       "2  Organic Matcha Green Tea Powder - 100% Pure Ma...          Grocery   \n",
       "3  15oz Raspberry Lyons Designer Dessert Syrup Sauce          Grocery   \n",
       "4  Stride Spark Kinetic Fruit Sugar Free Gum, 14-...          Grocery   \n",
       "\n",
       "  star_rating  helpful_votes  total_votes vine verified_purchase  \\\n",
       "0           5            0.0          0.0    N                 Y   \n",
       "1           5            0.0          0.0    N                 Y   \n",
       "2           5            0.0          0.0    N                 N   \n",
       "3           5            0.0          0.0    N                 Y   \n",
       "4           5            0.0          0.0    N                 Y   \n",
       "\n",
       "                      review_headline  \\\n",
       "0  Using these for years - love them.   \n",
       "1                           Wonderful   \n",
       "2                          Five Stars   \n",
       "3                          Five Stars   \n",
       "4                          Five Stars   \n",
       "\n",
       "                                         review_body review_date  \n",
       "0  As a family allergic to wheat, dairy, eggs, nu...  2015-08-31  \n",
       "1  My favorite nut.  Creamy, crunchy, salty, and ...  2015-08-31  \n",
       "2  This green tea tastes so good! My girlfriend l...  2015-08-31  \n",
       "3  I love Melissa's brand but this is a great sec...  2015-08-31  \n",
       "4                                               good  2015-08-31  "
      ]
     },
     "execution_count": 122,
     "metadata": {},
     "output_type": "execute_result"
    }
   ],
   "source": [
    "# IMPORT DATA\n",
    "amazon_reviews = pd.read_csv('Downloads/amazon_reviews_us_Grocery_v1_00.tsv', sep='\\t', error_bad_lines = False)\n",
    "\n",
    "amazon_reviews.head()"
   ]
  },
  {
   "cell_type": "code",
   "execution_count": 211,
   "metadata": {},
   "outputs": [
    {
     "name": "stdout",
     "output_type": "stream",
     "text": [
      "4795\n",
      "marketplace           object\n",
      "customer_id            int64\n",
      "review_id             object\n",
      "product_id            object\n",
      "product_parent         int64\n",
      "product_title         object\n",
      "product_category      object\n",
      "star_rating           object\n",
      "helpful_votes        float64\n",
      "total_votes          float64\n",
      "vine                  object\n",
      "verified_purchase     object\n",
      "review_headline       object\n",
      "review_body           object\n",
      "review_date           object\n",
      "organic               object\n",
      "tea                   object\n",
      "dtype: object\n"
     ]
    }
   ],
   "source": [
    "# GENERAL INFO (RAW DATA)\n",
    "\n",
    "# TOTAL DATA POINTS\n",
    "print(len(amazon_reviews))\n",
    "\n",
    "# COLUMN NAMES & TYPES\n",
    "print(amazon_reviews.dtypes)\n",
    "\n",
    "# Categorisation - looking at tea category\n",
    "amazon_reviews['organic'] = np.where(amazon_reviews.product_title.str.contains('Organic'), 'organic', 'non-organic')\n",
    "amazon_reviews['tea'] = np.where(amazon_reviews.product_title.str.contains(' tea'), 'tea', 'non-tea')\n",
    "amazon_reviews = amazon_reviews[~amazon_reviews['product_title'].str.contains('coffee')]\n",
    "\n",
    "amazon_reviews = amazon_reviews[amazon_reviews['tea'] == 'tea']\n",
    "\n",
    "amazon_reviews.groupby('organic').product_title.value_counts()\n",
    "\n",
    "amazon_reviews['review_body'] = amazon_reviews['review_body'].astype(str)\n",
    "\n",
    "# amazon_reviews['parsed_review'] =  amazon_reviews['review_body'].head(5000).apply(word_tokenize)\n",
    "amazon_reviews2 = amazon_reviews[:200000]"
   ]
  },
  {
   "cell_type": "code",
   "execution_count": 188,
   "metadata": {},
   "outputs": [],
   "source": [
    "#lowecase\n",
    "amazon_reviews2['review_body'] = amazon_reviews2['review_body'].apply(lambda x: \" \".join(x.lower() for x in x.split()))\n",
    "\n",
    "#remove punctuation\n",
    "amazon_reviews2['review_body'] = amazon_reviews2['review_body'].str.replace('[^\\w\\s]','')\n",
    "\n",
    "#stemming\n",
    "st = PorterStemmer()\n",
    "amazon_reviews2['review_body'] = amazon_reviews2['review_body'].apply(lambda x: \" \".join([st.stem(word) for word in x.split()]))\n",
    "\n",
    "#remove commonly occuring words\n",
    "stop  = stopwords.words('english')\n",
    "stop.extend(['great', 'good', 'like', 'product', 'love', 'br', 'would', 'nice', 'really', 'ive', 'dont', 'im', 'much', 'also', 'tea', 'green', 'one', 'drink', 'get', 'cup', 'tri', 'buy', 'use'])\n",
    "\n",
    "amazon_reviews2['review_body'] = amazon_reviews2['review_body'].apply(lambda x: \" \".join(x for x in x.split() if x not in stop))"
   ]
  },
  {
   "cell_type": "code",
   "execution_count": 189,
   "metadata": {},
   "outputs": [],
   "source": [
    "# frequency of words in organic and non-organic\n",
    "word_freq_org = amazon_reviews2[amazon_reviews2['organic'].isin(['organic'])].review_body.str.split(expand=True).stack().value_counts() / amazon_reviews2[amazon_reviews2['organic'].isin(['organic'])].review_body.str.split(expand=True).stack().value_counts().sum()\n",
    "word_freq_non_org = amazon_reviews2[amazon_reviews2['organic'].isin(['non-organic'])].review_body.str.split(expand=True).stack().value_counts() / amazon_reviews2[amazon_reviews2['organic'].isin(['non-organic'])].review_body.str.split(expand=True).stack().value_counts().sum()\n",
    "\n",
    "# print(word_freq_org.head(20))\n",
    "# print(word_freq_non_org.head(20))"
   ]
  },
  {
   "cell_type": "code",
   "execution_count": 204,
   "metadata": {},
   "outputs": [],
   "source": [
    "# combine 2 freq tables\n",
    "word_freq_org_df = word_freq_org.reset_index(name='freq')\n",
    "word_freq_non_org_df = word_freq_non_org.reset_index(name='freq')\n",
    "\n",
    "word_req_df = word_freq_org_df.merge(word_freq_non_org_df, how = 'outer', on = 'index', suffixes = ('_org', '_nonorg'))\n",
    "word_req_df = word_req_df.rename(columns = {'index':'word'})\n",
    "word_req_df['freq_org'] = word_req_df['freq_org'] * 100\n",
    "word_req_df['freq_nonorg'] = word_req_df['freq_nonorg'] * 100\n",
    "# print(word_req_df[:10])"
   ]
  },
  {
   "cell_type": "code",
   "execution_count": 205,
   "metadata": {},
   "outputs": [
    {
     "name": "stdout",
     "output_type": "stream",
     "text": [
      "           freq_org  freq_nonorg\n",
      "word                            \n",
      "tast       2.220888     1.985847\n",
      "flavor     1.860744     1.371642\n",
      "bag        1.180472     1.122804\n",
      "organ      0.840336     0.112887\n",
      "sweet      0.620248     0.217278\n",
      "recommend  0.620248     0.432128\n",
      "even       0.540216     0.366580\n",
      "well       0.540216     0.416348\n",
      "price      0.520208     0.619060\n",
      "delici     0.500200     0.301033\n"
     ]
    }
   ],
   "source": [
    "# change 'word' to index of DataFrame\n",
    "word_req_df.set_index('word', inplace=True)\n",
    "print(word_req_df[:10])"
   ]
  },
  {
   "cell_type": "code",
   "execution_count": 232,
   "metadata": {},
   "outputs": [
    {
     "data": {
      "image/png": "[encoded data removed]",
      "text/plain": [
       "<Figure size 1080x720 with 1 Axes>"
      ]
     },
     "metadata": {
      "needs_background": "light"
     },
     "output_type": "display_data"
    }
   ],
   "source": [
    "# plot on bar chart\n",
    "word_req_df2 = word_req_df[:10]\n",
    "\n",
    "tea_plot = word_req_df2[['freq_org', 'freq_nonorg']].plot(kind='bar', title =\"Tea Org. vs. Non-Org\", figsize=(15, 10), legend=True, fontsize=15)\n",
    "tea_plot.set_xlabel(\"Words\", fontsize=15)\n",
    "tea_plot.set_ylabel(\"Frequceny of words used in reviews (%)\", fontsize=15)\n",
    "plt.show()"
   ]
  },
  {
   "cell_type": "code",
   "execution_count": 283,
   "metadata": {},
   "outputs": [
    {
     "data": {
      "image/png": "[encoded data removed]",
      "text/plain": [
       "<Figure size 432x288 with 1 Axes>"
      ]
     },
     "metadata": {
      "needs_background": "light"
     },
     "output_type": "display_data"
    }
   ],
   "source": [
    "# Make a separate list for each type\n",
    "#amazon_reviews2.groupby('tea').star_rating.hist()\n",
    "\n",
    "amazon_reviews2['star_rating'] = pd.to_numeric(amazon_reviews2['star_rating'], errors='coerce')\n",
    "amazon_reviews2 = amazon_reviews2.dropna(subset=['star_rating'])\n",
    "\n",
    "# amazon_reviews2['star_rating'] = amazon_reviews2['star_rating'].astype(float)\n",
    "amazon_reviews2['star_rating'] = amazon_reviews2['star_rating'].astype(int)\n",
    "\n",
    "x1 = list(amazon_reviews2[amazon_reviews2['organic'] == 'organic']['star_rating'])\n",
    "x2 = list(amazon_reviews2[amazon_reviews2['organic'] == 'non-organic']['star_rating'])\n",
    "\n",
    "# Assign colors for each type of tea\n",
    "colors = ['#E69F00', '#56B4E9']\n",
    "names = ['organic', 'non-organic'] \n",
    "\n",
    "# Make the histogram using a list of lists\n",
    "plt.hist([x1, x2], density = True, color = colors, label = names, bins = 5)\n",
    "\n",
    "# Plot formatting\n",
    "plt.legend()\n",
    "plt.xlabel('Rating')\n",
    "plt.ylabel('Frequency')\n",
    "plt.title('Side-by-Side Histogram Organic vs. Non-Organic')\n",
    "plt.xticks(np.arange(1,6,1))\n",
    "\n",
    "plt.show()"
   ]
  },
  {
   "cell_type": "code",
   "execution_count": null,
   "metadata": {},
   "outputs": [],
   "source": []
  }
 ],
 "metadata": {
  "kernelspec": {
   "display_name": "Python 3",
   "language": "python",
   "name": "python3"
  },
  "language_info": {
   "codemirror_mode": {
    "name": "ipython",
    "version": 3
   },
   "file_extension": ".py",
   "mimetype": "text/x-python",
   "name": "python",
   "nbconvert_exporter": "python",
   "pygments_lexer": "ipython3",
   "version": "3.7.4"
  }
 },
 "nbformat": 4,
 "nbformat_minor": 4
}
